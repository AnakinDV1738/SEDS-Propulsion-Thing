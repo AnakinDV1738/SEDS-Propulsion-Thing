{
 "cells": [
  {
   "cell_type": "code",
   "execution_count": 260,
   "metadata": {},
   "outputs": [],
   "source": [
    "import numpy as np\n",
    "import matplotlib.pyplot as plt\n",
    "import pandas as pd"
   ]
  },
  {
   "cell_type": "code",
   "execution_count": 261,
   "metadata": {},
   "outputs": [],
   "source": [
    "def trim_dataset(df):\n",
    "    # Adding column names to the data\n",
    "    df.columns = ['Data']\n",
    "    \n",
    "    #  Finding the derivative at each point so we can analyze where the data starts changing\n",
    "    df['Derivative'] = df['Data'].diff()\n",
    "    \n",
    "    # Since there is so much deviation in the derivatives, we can find which ones are statistically significant with z-scores\n",
    "    z_scores = (df['Derivative'] - df['Derivative'].mean()) / df['Derivative'].std()\n",
    "    \n",
    "    # Anything more than 3 standard deviations away from the mean will be considered significant \n",
    "    z_scores_threshold = 3\n",
    "    \n",
    "    # Data structure with all the statistically significant derivatives\n",
    "    exceptionally_high_indices = df[z_scores > z_scores_threshold].index\n",
    "    \n",
    "    end_index = exceptionally_high_indices[-1] + 50 # Some tolerance\n",
    "    start_index = exceptionally_high_indices[0] - 50 # Some tolerance\n",
    "        \n",
    "    # Trim the data\n",
    "    useful_data = df.loc[start_index:end_index]\n",
    "    \n",
    "    return useful_data"
   ]
  },
  {
   "cell_type": "code",
   "execution_count": 262,
   "metadata": {},
   "outputs": [],
   "source": [
    "def apply_moving_median_filter(df):\n",
    "    \n",
    "    # Moving median filter to reduce noise/outliers in the data (very statistically robust) while preserving sharp features which is we want considering we are working with a step function\n",
    "    \n",
    "    # Naming column; look into actually naming the data when collecting in the future 💀\n",
    "    df.columns = ['Voltage']\n",
    "\n",
    "    window_size = 3 \n",
    "    window_size_samples = int(window_size * 1000) # Calculate the number of samples for the desired window size \n",
    "\n",
    "    # Apply the moving median\n",
    "    df['Smoothed_Voltage'] = df['Voltage'].rolling(window=window_size_samples, center=True).median()\n",
    "\n",
    "    # Drop NaN values created by the rolling operation at the edges\n",
    "    df.dropna(inplace=True)\n",
    "\n",
    "    return df"
   ]
  },
  {
   "cell_type": "code",
   "execution_count": 263,
   "metadata": {},
   "outputs": [],
   "source": [
    "def get_voltages_from_calibration_data(df):\n",
    "    \n",
    "    window_size = 50 # Checking every 50 values for flatness\n",
    "    median_indices = []\n",
    "\n",
    "    df['Derivative'] = df['Smoothed_Voltage'].diff()\n",
    "\n",
    "    for i in range(0, len(df), window_size):\n",
    "        window = df['Derivative'].iloc[i:i+window_size]\n",
    "        if all(window == 0):\n",
    "            median_index = (i + i + window_size - 1) // 2  # Calculate the median index\n",
    "            median_indices.append(median_index)\n",
    "    \n",
    "    new_df = pd.DataFrame({'Median_Index': median_indices, 'Smoothed_Voltage': df['Smoothed_Voltage'].iloc[median_indices]})\n",
    "\n",
    "    differences = new_df['Smoothed_Voltage'].diff()\n",
    "\n",
    "    # Define a threshold for considering a region as a plateau\n",
    "    threshold = 10  \n",
    "\n",
    "    # Find the plateaus\n",
    "    plateau_regions = []\n",
    "    start_idx = None\n",
    "\n",
    "    for i, diff in enumerate(differences):\n",
    "        if abs(diff) > threshold:\n",
    "            if start_idx is not None:\n",
    "                plateau_regions.append((median_indices[start_idx], median_indices[i - 1]))\n",
    "                start_idx = None\n",
    "        elif start_idx is None:\n",
    "            start_idx = i\n",
    "\n",
    "    # Handle the last plateau\n",
    "    if start_idx is not None:\n",
    "        plateau_regions.append((median_indices[start_idx], median_indices[-1]))\n",
    "\n",
    "    median_values = []\n",
    "\n",
    "    for start, end in plateau_regions:\n",
    "        # Take the median of the corresponding range in the 'Smoothed_Voltage' column\n",
    "        median_value = df['Voltage'].iloc[start:end+1].median()\n",
    "        median_values.append(median_value)\n",
    "\n",
    "    return median_values"
   ]
  },
  {
   "cell_type": "code",
   "execution_count": 264,
   "metadata": {},
   "outputs": [
    {
     "data": {
      "text/plain": [
       "[-8452.148438,\n",
       " -8032.226562,\n",
       " -7563.476562,\n",
       " -7065.429688,\n",
       " -6489.257812,\n",
       " -6064.453125]"
      ]
     },
     "execution_count": 264,
     "metadata": {},
     "output_type": "execute_result"
    }
   ],
   "source": [
    "calibration_df = pd.read_csv(r'All_Data\\2022_2023_Data\\Calibration1.csv')\n",
    "calibration_df = apply_moving_median_filter(calibration_df)\n",
    "get_voltages_from_calibration_data(calibration_df)"
   ]
  }
 ],
 "metadata": {
  "kernelspec": {
   "display_name": "Python 3",
   "language": "python",
   "name": "python3"
  },
  "language_info": {
   "codemirror_mode": {
    "name": "ipython",
    "version": 3
   },
   "file_extension": ".py",
   "mimetype": "text/x-python",
   "name": "python",
   "nbconvert_exporter": "python",
   "pygments_lexer": "ipython3",
   "version": "3.11.5"
  },
  "orig_nbformat": 4
 },
 "nbformat": 4,
 "nbformat_minor": 2
}
